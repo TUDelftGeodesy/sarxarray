{
 "cells": [
  {
   "attachments": {},
   "cell_type": "markdown",
   "metadata": {},
   "source": [
    "# SarXarray Demo Notebook"
   ]
  },
  {
   "attachments": {},
   "cell_type": "markdown",
   "metadata": {},
   "source": [
    "In this Jupyter Notebook, we demonstrate the following operations using `sarxarray`:\n",
    "\n",
    "- Load an SLC stack in binary format into a `xarray.Dataset` object;\n",
    "- Append variable data fields;\n",
    "- Create an MRM of a subset of the SLC stack;\n",
    "- Apply point selection to a subset of the SLC stack;\n",
    "- Export the selection results in Zarr format\n",
    "\n",
    "The data needed for this Notebook is sored in the following pth on Spider: `/project/caroline/Public/demo_sarxarray`."
   ]
  },
  {
   "cell_type": "code",
   "execution_count": null,
   "metadata": {},
   "outputs": [],
   "source": [
    "# To execute this notebook, you may need to install matplotlib\n",
    "# For example, execute this block to install matplotlib into \"sarxarray\" environment\n",
    "# ! conda install -n sarxarray -c conda-forge matplotlib -y"
   ]
  },
  {
   "cell_type": "code",
   "execution_count": null,
   "metadata": {},
   "outputs": [],
   "source": [
    "import numpy as np\n",
    "from pathlib import Path\n",
    "import sarxarray"
   ]
  },
  {
   "attachments": {},
   "cell_type": "markdown",
   "metadata": {},
   "source": [
    "### Load a SLC stack"
   ]
  },
  {
   "cell_type": "code",
   "execution_count": null,
   "metadata": {},
   "outputs": [],
   "source": [
    "# You many need to change this cell to your local data directory\n",
    "path = Path('../../data/nl_veenweiden_s1_asc_t088/')"
   ]
  },
  {
   "cell_type": "code",
   "execution_count": null,
   "metadata": {},
   "outputs": [],
   "source": [
    "# Make a list of SLCs to read\n",
    "f_slc = 'slc_srd_nl_veenweiden.raw' \n",
    "list_slcs = [p/f_slc for p in path.rglob(\"????????\")]\n",
    "list_slcs"
   ]
  },
  {
   "cell_type": "code",
   "execution_count": null,
   "metadata": {},
   "outputs": [],
   "source": [
    "# Metadata of the stack\n",
    "shape=(9914, 41174)\n",
    "dtype = np.dtype([('re', np.float32), ('im', np.float32)])"
   ]
  },
  {
   "cell_type": "code",
   "execution_count": null,
   "metadata": {},
   "outputs": [],
   "source": [
    "stack = sarxarray.from_binary(list_slcs, shape, dtype=dtype)\n",
    "stack"
   ]
  },
  {
   "cell_type": "code",
   "execution_count": null,
   "metadata": {},
   "outputs": [],
   "source": [
    "stack.complex"
   ]
  },
  {
   "cell_type": "code",
   "execution_count": null,
   "metadata": {},
   "outputs": [],
   "source": [
    "# Can retruck, but this will reduce the performance, since the mmap reading on binary data has a fixed trunk\n",
    "stack.chunk({\"azimuth\":1000, \"range\":1000, \"time\":1 })"
   ]
  },
  {
   "cell_type": "code",
   "execution_count": null,
   "metadata": {},
   "outputs": [],
   "source": [
    "stack.complex"
   ]
  },
  {
   "attachments": {},
   "cell_type": "markdown",
   "metadata": {},
   "source": [
    "### Append a new data field: `h2ph`"
   ]
  },
  {
   "cell_type": "code",
   "execution_count": null,
   "metadata": {},
   "outputs": [],
   "source": [
    "# Make a list of h2ph files to read\n",
    "f_h2ph = 'h2ph_nl_veenweiden.raw' \n",
    "list_h2phs = [p/f_h2ph for p in path.rglob(\"????????\")]\n",
    "list_h2phs"
   ]
  },
  {
   "cell_type": "code",
   "execution_count": null,
   "metadata": {},
   "outputs": [],
   "source": [
    "h2phs = sarxarray.from_binary(list_h2phs, shape, vlabel=\"h2ph\", dtype=np.float32)\n",
    "h2phs"
   ]
  },
  {
   "cell_type": "code",
   "execution_count": null,
   "metadata": {},
   "outputs": [],
   "source": [
    "stack = stack.merge(h2phs)\n",
    "stack"
   ]
  },
  {
   "attachments": {},
   "cell_type": "markdown",
   "metadata": {},
   "source": [
    "### Create MRM of a subset"
   ]
  },
  {
   "cell_type": "code",
   "execution_count": null,
   "metadata": {},
   "outputs": [],
   "source": [
    "mrm = stack.slcstack.mrm()\n",
    "mrm"
   ]
  },
  {
   "cell_type": "code",
   "execution_count": null,
   "metadata": {},
   "outputs": [],
   "source": [
    "# Compute a subset of the mrm\n",
    "mrm_subset = mrm[5000:5500, 10000:10500]\n",
    "mrm_subset = mrm_subset.compute()"
   ]
  },
  {
   "cell_type": "code",
   "execution_count": null,
   "metadata": {},
   "outputs": [],
   "source": [
    "# Visualize\n",
    "from matplotlib import pyplot as plt\n",
    "fig, ax = plt.subplots()\n",
    "ax.imshow(mrm_subset)\n",
    "mrm_subset.plot(robust=True, ax=ax)"
   ]
  },
  {
   "attachments": {},
   "cell_type": "markdown",
   "metadata": {},
   "source": [
    "### Export to a Space Time Matrix"
   ]
  },
  {
   "cell_type": "code",
   "execution_count": null,
   "metadata": {},
   "outputs": [],
   "source": [
    "stack_subset = stack.sel(azimuth=range(6000,6500), range=range(11000,11500))"
   ]
  },
  {
   "cell_type": "code",
   "execution_count": null,
   "metadata": {},
   "outputs": [],
   "source": [
    "stm = stack_subset.slcstack.point_selection(threshold=2, method=\"amplitude_dispersion\")\n",
    "stm"
   ]
  },
  {
   "cell_type": "code",
   "execution_count": null,
   "metadata": {},
   "outputs": [],
   "source": [
    "# Export to Zarr\n",
    "stm.to_zarr(\"stm.zarr\")"
   ]
  },
  {
   "cell_type": "code",
   "execution_count": null,
   "metadata": {},
   "outputs": [],
   "source": [
    "# Load exported STM in Zarr\n",
    "import xarray as xr\n",
    "stm_read = xr.open_zarr(\"stm.zarr\")\n",
    "stm_read"
   ]
  }
 ],
 "metadata": {
  "kernelspec": {
   "display_name": "Python 3",
   "language": "python",
   "name": "python3"
  },
  "language_info": {
   "codemirror_mode": {
    "name": "ipython",
    "version": 3
   },
   "file_extension": ".py",
   "mimetype": "text/x-python",
   "name": "python",
   "nbconvert_exporter": "python",
   "pygments_lexer": "ipython3",
   "version": "3.10.8"
  },
  "orig_nbformat": 4,
  "vscode": {
   "interpreter": {
    "hash": "6d7c5191f7d14589ee35f8047088350674afb5445726a8720f94faa5d7205efb"
   }
  }
 },
 "nbformat": 4,
 "nbformat_minor": 2
}
