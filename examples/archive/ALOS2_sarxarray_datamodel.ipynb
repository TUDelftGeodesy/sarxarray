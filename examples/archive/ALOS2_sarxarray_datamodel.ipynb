{
 "cells": [
  {
   "attachments": {},
   "cell_type": "markdown",
   "id": "0000f704",
   "metadata": {},
   "source": [
    "<figure>\n",
    "  <IMG SRC=\"https://raw.githubusercontent.com/mbakker7/exploratory_computing_with_python/master/tudelft_logo.png\" WIDTH=200 ALIGN=\"right\">\n",
    "</figure>\n",
    "\n",
    "### InSAR data model based on xarray(/dask)"
   ]
  },
  {
   "attachments": {},
   "cell_type": "markdown",
   "id": "dd55e99c",
   "metadata": {},
   "source": [
    "**Steps:**\n",
    "- Load a raw interferogram (complex(Re, Im)) in binary format into a `xarray.Dataset` object\n",
    "- Visualize the phase\n",
    "- Load raw coherence into a `xarray.Dataset` object"
   ]
  },
  {
   "cell_type": "code",
   "execution_count": null,
   "id": "2a2dde59",
   "metadata": {},
   "outputs": [],
   "source": [
    "import sarxarray\n",
    "import numpy as np\n",
    "from pathlib import Path\n",
    "import matplotlib.pyplot as plt\n",
    "\n",
    "from tqdm import tqdm\n",
    "from skimage.util import view_as_windows\n",
    "import xarray as xr"
   ]
  },
  {
   "attachments": {},
   "cell_type": "markdown",
   "id": "b061f841",
   "metadata": {},
   "source": [
    "**Specify path of file location**"
   ]
  },
  {
   "cell_type": "code",
   "execution_count": null,
   "id": "f2c73db6",
   "metadata": {},
   "outputs": [],
   "source": [
    "path = Path('data/')  # CHANGE to local data directory"
   ]
  },
  {
   "attachments": {},
   "cell_type": "markdown",
   "id": "68688461",
   "metadata": {},
   "source": [
    "### Interferogram\n",
    "\n",
    "**List the interferograms (.raw files) to be read**"
   ]
  },
  {
   "cell_type": "code",
   "execution_count": null,
   "id": "6a41a772",
   "metadata": {},
   "outputs": [],
   "source": [
    "f_ifg = 'cint_srd.raw'  # string\n",
    "\n",
    "list_ifgs = [p/f_ifg for p in path.rglob(\"????????\")]\n",
    "list_ifgs"
   ]
  },
  {
   "cell_type": "code",
   "execution_count": null,
   "id": "39f2b3b1",
   "metadata": {},
   "outputs": [],
   "source": [
    "# Create list with dates\n",
    "# Mother = 20180108\n",
    "\n",
    "date_list = []\n",
    "for i in range(len(list_ifgs)):\n",
    "    prep_date_string = str(list_ifgs[i])\n",
    "    date = prep_date_string.split('\\\\')[3]\n",
    "    date_list.append(date)\n",
    "date_list"
   ]
  },
  {
   "cell_type": "code",
   "execution_count": null,
   "id": "5f427128",
   "metadata": {},
   "outputs": [],
   "source": [
    "# Take the mother-mother ifg out\n",
    "\n",
    "mother_str = '20180108'\n",
    "mother_idx = date_list.index(mother_str)\n",
    "\n",
    "list_ifgs_without_mother = list_ifgs[0:mother_idx]+list_ifgs[(mother_idx+1):10]\n",
    "list_ifgs_without_mother"
   ]
  },
  {
   "attachments": {},
   "cell_type": "markdown",
   "id": "f804a2db",
   "metadata": {},
   "source": [
    "**Metadata**\n",
    "\n",
    "Information about the shape can be found in the ifgs.res files and are denoted using 'nlines' and 'npixels', respectively."
   ]
  },
  {
   "cell_type": "code",
   "execution_count": null,
   "id": "d5001030",
   "metadata": {},
   "outputs": [],
   "source": [
    "# Metadata\n",
    "\n",
    "shape=(5500, 1800)  # obtained from ifgs.res --> nlines = rows ; npixels = columns\n",
    "dtype = np.dtype([('re', np.float32), ('im', np.float32)])"
   ]
  },
  {
   "attachments": {},
   "cell_type": "markdown",
   "id": "2391bec2",
   "metadata": {},
   "source": [
    "**Loading the raw interferogram into a `xarray.Dataset`**"
   ]
  },
  {
   "cell_type": "code",
   "execution_count": null,
   "id": "068c9e9e",
   "metadata": {},
   "outputs": [],
   "source": [
    "# Create xarray.Dataset object from .raw file\n",
    "\n",
    "ifg_stack = sarxarray.from_binary(list_ifgs_without_mother, shape, dtype=dtype)\n",
    "ifg_stack = ifg_stack.chunk({\"azimuth\":500, \"range\":500, \"time\":1 })  # set custom chunk sizes\n",
    "\n",
    "ifg_stack"
   ]
  },
  {
   "cell_type": "code",
   "execution_count": null,
   "id": "90bbe917",
   "metadata": {},
   "outputs": [],
   "source": [
    "phase = ifg_stack.phase\n",
    "amplitude = ifg_stack.amplitude\n",
    "phasor = ifg_stack.complex # contains P00, P01, P02"
   ]
  },
  {
   "cell_type": "code",
   "execution_count": null,
   "id": "1713b6ff",
   "metadata": {},
   "outputs": [],
   "source": [
    "phase"
   ]
  },
  {
   "attachments": {},
   "cell_type": "markdown",
   "id": "35fbf1d5",
   "metadata": {},
   "source": [
    "**Visualize the phase**"
   ]
  },
  {
   "cell_type": "code",
   "execution_count": null,
   "id": "f62f6ba0",
   "metadata": {},
   "outputs": [],
   "source": [
    "# Visualize first figure\n",
    "\n",
    "fig,ax = plt.subplots(1,1)\n",
    "phase_i = phase.isel(time=1)\n",
    "ax.imshow(phase_i)\n",
    "phase_i.plot(robust=True, ax=ax, cmap='jet')  # cmap='jet'"
   ]
  },
  {
   "cell_type": "code",
   "execution_count": null,
   "id": "fc138b15",
   "metadata": {},
   "outputs": [],
   "source": [
    "# Visualize 3/9 figures\n",
    "\n",
    "phase_ex = ifg_stack.phase.isel(time=slice(3,6))  \n",
    "phase_ex.plot(x=\"range\", y=\"azimuth\", col=\"time\", col_wrap=3, cmap='jet')"
   ]
  },
  {
   "cell_type": "code",
   "execution_count": null,
   "id": "dcbd8ad8",
   "metadata": {},
   "outputs": [],
   "source": [
    "fig, axs = plt.subplots(3,3, figsize=(25, 25), facecolor='w', edgecolor='k')\n",
    "fig.subplots_adjust(hspace = .25, wspace=.1)\n",
    "\n",
    "axs = axs.ravel()\n",
    "\n",
    "for i in tqdm(range(len(ifg_stack.time))):\n",
    "    phase_i = phase.isel(time=i)\n",
    "    axs[i].imshow(phase_i)\n",
    "    phase_i.plot(robust=True, ax=axs[i], cmap='jet')  # cmap='jet'\n"
   ]
  },
  {
   "attachments": {},
   "cell_type": "markdown",
   "id": "922c88c2",
   "metadata": {},
   "source": [
    "**MRM (Mean Reflection Map)**"
   ]
  },
  {
   "cell_type": "code",
   "execution_count": null,
   "id": "1eca61bb",
   "metadata": {},
   "outputs": [],
   "source": [
    "# Creating a MRM (Mean Reflection Map) of a subset of the stack\n",
    "\n",
    "mrm = ifg_stack.slcstack.mrm() # go 3D to 2D --> only azimuth & range for amplitude\n",
    "mrm"
   ]
  },
  {
   "cell_type": "code",
   "execution_count": null,
   "id": "5a3a705e",
   "metadata": {},
   "outputs": [],
   "source": [
    "mrm_subset = mrm[1000:2000, 500:2000]  # Create subset using 2 indexes: azimuth & range\n",
    "\n",
    "mrm_subset = mrm_subset.compute() # manually trigger loading of this array’s data from disk or a remote source into memory and return a new array\n",
    "mrm_subset"
   ]
  },
  {
   "cell_type": "code",
   "execution_count": null,
   "id": "c057d232",
   "metadata": {},
   "outputs": [],
   "source": [
    "# Visualize\n",
    "\n",
    "fig, ax = plt.subplots()\n",
    "ax.imshow(mrm_subset)\n",
    "mrm_subset.plot(robust=True, ax=ax)"
   ]
  },
  {
   "attachments": {},
   "cell_type": "markdown",
   "id": "5383bc10",
   "metadata": {},
   "source": [
    "**Load raw coherence**"
   ]
  },
  {
   "cell_type": "code",
   "execution_count": null,
   "id": "19f49546",
   "metadata": {},
   "outputs": [],
   "source": [
    "f_coh = 'coherence.raw'  # string\n",
    "\n",
    "list_coh = [p/f_coh for p in path.rglob(\"????????\")]\n",
    "list_coh = list_coh[0:mother_idx] + list_coh[mother_idx+1:10]  # do not include coherence of mother-mother ifg"
   ]
  },
  {
   "cell_type": "code",
   "execution_count": null,
   "id": "498a84a1",
   "metadata": {},
   "outputs": [],
   "source": [
    "# Metadata\n",
    "\n",
    "shape=(275, 450)  # obtained from ifgs.res --> nlines = rows ; npixels = columns\n",
    "\n",
    "# Create xarray.Dataset object from .raw file\n",
    "\n",
    "coh_stack = sarxarray.from_binary(list_coh, shape, dtype=np.float32)\n",
    "coh_stack = coh_stack.chunk({\"azimuth\":100, \"range\":100, \"time\":1 })  # set custom chunk sizes\n",
    "coh_stack"
   ]
  },
  {
   "cell_type": "code",
   "execution_count": null,
   "id": "c42d0256",
   "metadata": {},
   "outputs": [],
   "source": [
    "# Visualize coherence\n",
    "\n",
    "fig,ax = plt.subplots(1,1)\n",
    "\n",
    "for i in tqdm(range(len(coh_stack.time))):\n",
    "    coh_i = coh_stack.amplitude.isel(time=i)\n",
    "    plt.imshow(coh_i)\n",
    "    coh_i.plot(robust=True, cmap='bone',vmax=0.7,vmin=0)  # cmap='jet'\n",
    "    plt.show() "
   ]
  },
  {
   "attachments": {},
   "cell_type": "markdown",
   "id": "7c5def54",
   "metadata": {},
   "source": [
    "**Load slave_rsmp - to get original amplitude of SLC's e.g.**"
   ]
  },
  {
   "cell_type": "code",
   "execution_count": null,
   "id": "c055740f",
   "metadata": {},
   "outputs": [],
   "source": [
    "path_mother = Path('data_mother')  \n",
    "f_mother = 'slave_rsmp.raw'  # Load complex data of mother to obtain amplitude\n",
    "\n",
    "shape=(5500, 1800)  # obtained from ifgs.res --> nlines = rows ; npixels = columns\n",
    "dtype = np.dtype([('re', np.float32), ('im', np.float32)])\n",
    "\n",
    "mother = [p/f_mother for p in path_mother.rglob(\"????????\")]\n",
    "\n",
    "mother = sarxarray.from_binary(mother, shape, dtype=dtype)\n",
    "mother = mother.chunk({\"azimuth\":500, \"range\":500, \"time\":1 })  # set custom chunk sizes\n",
    "mother.amplitude"
   ]
  },
  {
   "attachments": {},
   "cell_type": "markdown",
   "id": "37097076",
   "metadata": {},
   "source": [
    "**Multi-looking**"
   ]
  },
  {
   "cell_type": "code",
   "execution_count": null,
   "id": "1e091e14",
   "metadata": {},
   "outputs": [],
   "source": [
    "def multilooking(data, window_size, variable_name):\n",
    "    \n",
    "    # Generate patches\n",
    "    \n",
    "    patches_real = view_as_windows(np.real(data), window_size, step=window_size)  # step is important as its value can result in overlapping or non overlapping patches\n",
    "    \n",
    "    # Compute the mean of each patch\n",
    "    \n",
    "    real_mean = np.nanmean(patches_real, axis=(2, 3))  # the 3rd and 4th axes represent the window dimensions\n",
    "    \n",
    "    # Consider the imaginary part; in the case input data is a complex number\n",
    "    \n",
    "    if not np.all(np.imag(data) == 0):  # if imaginary\n",
    "        \n",
    "        patches_imag = view_as_windows(np.imag(data), window_size, step=window_size)\n",
    "        \n",
    "        # Compute the mean of each patch\n",
    "        \n",
    "        imag_mean = np.nanmean(patches_imag, axis=(2, 3))\n",
    "        \n",
    "        # Combine the real and imaginary part\n",
    "        \n",
    "        output_array = real_mean + 1j * imag_mean\n",
    "        \n",
    "        # Save as xarray dataset\n",
    "        \n",
    "        comp = xr.DataArray(output_array, dims=None)\n",
    "        ph = xr.DataArray(np.angle(output_array), dims=('azimuth','range'))\n",
    "        amp = xr.DataArray(np.abs(output_array), dims=('azimuth','range'))\n",
    "        \n",
    "        output_array = xr.DataArray(comp, \n",
    "                        coords={'azimuth': np.arange(0, np.shape(output_array)[0], 1, dtype=int),\n",
    "                        'range': np.arange(0, np.shape(output_array)[1], 1, dtype=int)}, \n",
    "                        dims=[\"azimuth\",\"range\"])\n",
    "        output_array= output_array.to_dataset(name='complex')\n",
    "\n",
    "        output_array['amplitude'] = amp\n",
    "        output_array['phase'] = ph\n",
    "        \n",
    "    else:\n",
    "        \n",
    "        output_array = real_mean\n",
    "        \n",
    "        # Save as xarray dataset\n",
    "        \n",
    "        output_array = xr.DataArray(output_array, \n",
    "                        coords={'azimuth': np.arange(0, np.shape(output_array)[0], 1, dtype=int),\n",
    "                        'range': np.arange(0, np.shape(output_array)[1], 1, dtype=int)}, \n",
    "                        dims=[\"azimuth\",\"range\"])\n",
    "        output_array = output_array.to_dataset(name=variable_name)\n",
    "        \n",
    "    return output_array"
   ]
  },
  {
   "cell_type": "code",
   "execution_count": null,
   "id": "f34afe60",
   "metadata": {},
   "outputs": [],
   "source": [
    "# Apply multilooking\n",
    "\n",
    "first_skip = False\n",
    "count = 0\n",
    "coords = []\n",
    "\n",
    "window_size = (22,10)\n",
    "\n",
    "ifg_ml0 = multilooking(ifg_stack.complex.isel(time=0).values, window_size=window_size, variable_name='complex')\n",
    "\n",
    "for i in range(len(ifg_stack.time)):\n",
    "    if(first_skip):\n",
    "        toAdd_ifg = multilooking(ifg_stack.complex.isel(time=i).values, window_size=window_size, variable_name='complex')\n",
    "        ifg_ml0 = xr.concat([ifg_ml0, toAdd_ifg], dim=\"time\")\n",
    "    first_skip = True \n",
    "    \n",
    "    coords.append(count)\n",
    "    count+=1 \n",
    "    \n",
    "ifg_ml = ifg_ml0.assign_coords(time=coords)"
   ]
  },
  {
   "cell_type": "code",
   "execution_count": null,
   "id": "d1c036c7",
   "metadata": {},
   "outputs": [],
   "source": [
    "fig, axs = plt.subplots(3,3, figsize=(25, 25), facecolor='w', edgecolor='k')\n",
    "fig.subplots_adjust(hspace = .25, wspace=.1)\n",
    "\n",
    "axs = axs.ravel()\n",
    "\n",
    "for i in tqdm(range(len(ifg_ml.time))):\n",
    "    axs[i].imshow(ifg_ml.phase.isel(time=i))\n",
    "    ifg_ml.phase.isel(time=i).plot(robust=True, ax=axs[i], cmap='jet')  # cmap='jet'"
   ]
  }
 ],
 "metadata": {
  "kernelspec": {
   "display_name": "Python 3 (ipykernel)",
   "language": "python",
   "name": "python3"
  },
  "language_info": {
   "codemirror_mode": {
    "name": "ipython",
    "version": 3
   },
   "file_extension": ".py",
   "mimetype": "text/x-python",
   "name": "python",
   "nbconvert_exporter": "python",
   "pygments_lexer": "ipython3",
   "version": "3.10.9"
  }
 },
 "nbformat": 4,
 "nbformat_minor": 5
}
