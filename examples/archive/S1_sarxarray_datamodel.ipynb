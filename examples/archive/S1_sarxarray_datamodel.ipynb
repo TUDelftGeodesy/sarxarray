{
 "cells": [
  {
   "attachments": {},
   "cell_type": "markdown",
   "id": "0000f704",
   "metadata": {},
   "source": [
    "<figure>\n",
    "  <IMG SRC=\"https://raw.githubusercontent.com/mbakker7/exploratory_computing_with_python/master/tudelft_logo.png\" WIDTH=200 ALIGN=\"right\">\n",
    "</figure>\n",
    "\n",
    "### InSAR data model based on xarray(/dask)"
   ]
  },
  {
   "attachments": {},
   "cell_type": "markdown",
   "id": "dd55e99c",
   "metadata": {},
   "source": [
    "**Steps:**\n",
    "- Load a raw interferogram (complex(Re, Im)) in binary format into a `xarray.Dataset` object\n",
    "- Visualize the phase\n",
    "- Geocoding\n",
    "- MRM\n",
    "- Load 'slave_rsmp'"
   ]
  },
  {
   "cell_type": "code",
   "execution_count": null,
   "id": "2a2dde59",
   "metadata": {},
   "outputs": [],
   "source": [
    "import sarxarray\n",
    "import numpy as np\n",
    "from pathlib import Path\n",
    "import matplotlib.pyplot as plt\n",
    "\n",
    "from tqdm import tqdm\n",
    "import re\n",
    "from skimage.util import view_as_windows\n",
    "import xarray as xr"
   ]
  },
  {
   "attachments": {},
   "cell_type": "markdown",
   "id": "b061f841",
   "metadata": {},
   "source": [
    "**Specify path of file location**"
   ]
  },
  {
   "cell_type": "code",
   "execution_count": null,
   "id": "f2c73db6",
   "metadata": {},
   "outputs": [],
   "source": [
    "path = Path('data_s1/')  # CHANGE to local data directory"
   ]
  },
  {
   "attachments": {},
   "cell_type": "markdown",
   "id": "68688461",
   "metadata": {},
   "source": [
    "### Interferogram\n",
    "\n",
    "**List the interferograms (.raw files) to be read**"
   ]
  },
  {
   "cell_type": "code",
   "execution_count": null,
   "id": "6d45378c",
   "metadata": {},
   "outputs": [],
   "source": [
    "# Open the metadata ifgs.res file\n",
    "\n",
    "filepath = 'data_s1/20190226/ifgs.res'  # example with fir\n",
    "\n",
    "with open(filepath, 'r') as file:\n",
    "    content = file.read()\n",
    "\n",
    "# Look through DORIS V5 'ifgs.res' file for shape\n",
    "\n",
    "lines = r'Number of lines \\(multilooked\\):\\s+(\\d+)'\n",
    "pixels = r'Number of pixels \\(multilooked\\):\\s+(\\d+)'\n",
    "match_lines = re.search(lines, content)\n",
    "match_pixels = re.search(pixels, content)\n",
    "\n",
    "if match_lines:\n",
    "    # Extract the number of lines from the matched pattern\n",
    "    num_lines = int(match_lines.group(1))\n",
    "    print(f\"Number of lines: {num_lines}\")\n",
    "else:\n",
    "    print(\"Not found in the file.\")\n",
    "\n",
    "if match_pixels:\n",
    "    # Extract the number of lines from the matched pattern\n",
    "    num_pixels = int(match_pixels.group(1))\n",
    "    print(f\"Number of pixels: {num_pixels}\")\n",
    "else:\n",
    "    print(\"Not found in the file.\")"
   ]
  },
  {
   "cell_type": "code",
   "execution_count": null,
   "id": "6a41a772",
   "metadata": {},
   "outputs": [],
   "source": [
    "f_ifg = 'cint_srd.raw'  # string\n",
    "\n",
    "list_ifgs = [p / f_ifg for p in path.rglob(\"????????\") if len(p.parts) < 3] # exclude:  WindowsPath('.../.../ifgs.res/cint_srd.raw'),\n",
    "list_ifgs"
   ]
  },
  {
   "cell_type": "code",
   "execution_count": null,
   "id": "39f2b3b1",
   "metadata": {},
   "outputs": [],
   "source": [
    "# Create list with dates\n",
    "# Mother = 20180108\n",
    "\n",
    "date_list = []\n",
    "\n",
    "for i in range(len(list_ifgs)):\n",
    "    prep_date_string = str(list_ifgs[i])\n",
    "    date = prep_date_string.split('\\\\')[1]\n",
    "    date_list.append(date)\n",
    "    \n",
    "date_list"
   ]
  },
  {
   "cell_type": "code",
   "execution_count": null,
   "id": "5f427128",
   "metadata": {},
   "outputs": [],
   "source": [
    "# Take the mother-mother ifg out\n",
    "\n",
    "mother_str = '20190403'\n",
    "mother_idx = date_list.index(mother_str)\n",
    "\n",
    "list_ifgs_without_mother = list_ifgs[0:mother_idx]+list_ifgs[(mother_idx+1):]\n",
    "list_ifgs_without_mother"
   ]
  },
  {
   "attachments": {},
   "cell_type": "markdown",
   "id": "f804a2db",
   "metadata": {},
   "source": [
    "**Metadata**\n",
    "\n",
    "Information about the shape can be found in the ifgs.res files and are denoted using 'nlines' and 'npixels', respectively."
   ]
  },
  {
   "cell_type": "code",
   "execution_count": null,
   "id": "d5001030",
   "metadata": {},
   "outputs": [],
   "source": [
    "# Metadata\n",
    "\n",
    "shape=(num_lines, num_pixels)  # obtained from ifgs.res --> nlines = rows ; npixels = columns\n",
    "dtype = np.dtype([('re', np.float32), ('im', np.float32)])"
   ]
  },
  {
   "attachments": {},
   "cell_type": "markdown",
   "id": "2391bec2",
   "metadata": {},
   "source": [
    "**Loading the raw interferogram into a `xarray.Dataset`**"
   ]
  },
  {
   "cell_type": "code",
   "execution_count": null,
   "id": "068c9e9e",
   "metadata": {},
   "outputs": [],
   "source": [
    "# Create xarray.Dataset object from .raw file\n",
    "\n",
    "ifg_stack = sarxarray.from_binary(list_ifgs_without_mother, shape, dtype=dtype)\n",
    "ifg_stack"
   ]
  },
  {
   "cell_type": "code",
   "execution_count": null,
   "id": "6f59c0c7",
   "metadata": {},
   "outputs": [],
   "source": [
    "# Create subset to obtain region of interest\n",
    "\n",
    "ifg_subset = ifg_stack.isel(azimuth=range(600,1350),range=range(14400,16400))\n",
    "ifg_subset = ifg_subset.chunk({\"azimuth\":200, \"range\":200, \"time\":1 })  # set custom chunk sizes\n",
    "\n",
    "ifg_subset"
   ]
  },
  {
   "cell_type": "code",
   "execution_count": null,
   "id": "90bbe917",
   "metadata": {},
   "outputs": [],
   "source": [
    "phase = ifg_subset.phase\n",
    "amplitude = ifg_subset.amplitude\n",
    "phasor = ifg_subset.complex # contains P00, P01, P02"
   ]
  },
  {
   "cell_type": "code",
   "execution_count": null,
   "id": "1713b6ff",
   "metadata": {},
   "outputs": [],
   "source": [
    "phase"
   ]
  },
  {
   "attachments": {},
   "cell_type": "markdown",
   "id": "35fbf1d5",
   "metadata": {},
   "source": [
    "**Visualize the phase**"
   ]
  },
  {
   "cell_type": "code",
   "execution_count": null,
   "id": "f62f6ba0",
   "metadata": {},
   "outputs": [],
   "source": [
    "# Visualize first figure\n",
    "\n",
    "fig,ax = plt.subplots(1,1)\n",
    "phase_i = phase.isel(time=1)\n",
    "ax.imshow(phase_i)\n",
    "phase_i.plot(robust=True, ax=ax, cmap='jet')  # cmap='jet'"
   ]
  },
  {
   "cell_type": "code",
   "execution_count": null,
   "id": "dcbd8ad8",
   "metadata": {},
   "outputs": [],
   "source": [
    "fig, axs = plt.subplots(3,3, figsize=(25, 25), facecolor='w', edgecolor='k')\n",
    "fig.subplots_adjust(hspace = .25, wspace=.1)\n",
    "\n",
    "axs = axs.ravel()\n",
    "\n",
    "for i in tqdm(range(len(ifg_stack.time))):\n",
    "    phase_i = phase.isel(time=i)\n",
    "    axs[i].imshow(phase_i)\n",
    "    phase_i.plot(robust=True, ax=axs[i], cmap='jet')  # cmap='jet'\n"
   ]
  },
  {
   "attachments": {},
   "cell_type": "markdown",
   "id": "88c5cf91",
   "metadata": {},
   "source": [
    "**Geocoding**"
   ]
  },
  {
   "cell_type": "code",
   "execution_count": null,
   "id": "6a6e8df0",
   "metadata": {},
   "outputs": [],
   "source": [
    "path_mother = Path('data_mother_s1')  # path to folder containing phi and lam raw\n",
    "shape=(1456, 20442)\n",
    "\n",
    "f_lat = [path_mother/'phi.raw']\n",
    "f_lon = [path_mother/'lam.raw']\n",
    "f_lon"
   ]
  },
  {
   "cell_type": "code",
   "execution_count": null,
   "id": "11854a62",
   "metadata": {},
   "outputs": [],
   "source": [
    "lat = sarxarray.from_binary(f_lat, shape, vlabel='lat', dtype=np.float32)\n",
    "lon = sarxarray.from_binary(f_lon, shape, vlabel='lon', dtype=np.float32)"
   ]
  },
  {
   "cell_type": "code",
   "execution_count": null,
   "id": "48424687",
   "metadata": {},
   "outputs": [],
   "source": [
    "lat_subset = lat.isel(azimuth=range(600,1350),range=range(14400,16400))\n",
    "lon_subset = lon.isel(azimuth=range(600,1350),range=range(14400,16400))"
   ]
  },
  {
   "cell_type": "code",
   "execution_count": null,
   "id": "42f25666",
   "metadata": {},
   "outputs": [],
   "source": [
    "ifg_subset_geo = ifg_subset.assign_coords(lat = ((\"azimuth\", \"range\"), lat_subset.squeeze().lat.data), lon = ((\"azimuth\", \"range\"), lon_subset.squeeze().lon.data))"
   ]
  },
  {
   "cell_type": "code",
   "execution_count": null,
   "id": "a44b6902",
   "metadata": {},
   "outputs": [],
   "source": [
    "ifg_subset_geo\n",
    "\n",
    "# np.max(ifg_subset_geo.coords['lat'].values)\n",
    "# np.min(ifg_subset_geo.coords['lat'].values)"
   ]
  },
  {
   "cell_type": "code",
   "execution_count": null,
   "id": "3d4c36cb",
   "metadata": {},
   "outputs": [],
   "source": [
    "phase_geo = ifg_subset_geo.phase\n",
    "pbar = tqdm(total=len(ifg_stack.time))\n",
    "\n",
    "fig, axs = plt.subplots(3,3, figsize=(25, 25), facecolor='w', edgecolor='k')\n",
    "fig.subplots_adjust(hspace = .25, wspace=.1)\n",
    "\n",
    "axs = axs.ravel()\n",
    "\n",
    "for i in range(len(ifg_stack.time)):\n",
    "    phase_geo_i = phase_geo.isel(time=i)\n",
    "    axs[i].imshow(phase_geo_i,extent=[ifg_subset_geo.coords['lon'].min(), ifg_subset_geo.coords['lon'].max(),\n",
    "                                   ifg_subset_geo.coords['lat'].min(), ifg_subset_geo.coords['lat'].max()], cmap='jet', interpolation='none')\n",
    "    phase_geo_i.plot(x='lon', y='lat', ax=axs[i], cmap='jet')\n",
    "    pbar.update(1)\n",
    "pbar.close()"
   ]
  },
  {
   "attachments": {},
   "cell_type": "markdown",
   "id": "922c88c2",
   "metadata": {},
   "source": [
    "**MRM (Mean Reflection Map)**"
   ]
  },
  {
   "cell_type": "code",
   "execution_count": null,
   "id": "1eca61bb",
   "metadata": {},
   "outputs": [],
   "source": [
    "# Creating a MRM (Mean Reflection Map) of a subset of the stack\n",
    "\n",
    "mrm = ifg_stack.slcstack.mrm() # go 3D to 2D --> only azimuth & range for amplitude\n",
    "mrm"
   ]
  },
  {
   "cell_type": "code",
   "execution_count": null,
   "id": "5a3a705e",
   "metadata": {},
   "outputs": [],
   "source": [
    "mrm_subset = mrm[1000:1200, 14500:15100]  # Create subset using 2 indexes: azimuth & range\n",
    "# mrm_subset = mrm[600:1350, 14400:16400]\n",
    "mrm_subset = mrm_subset.compute() # manually trigger loading of this array’s data from disk or a remote source into memory and return a new array\n",
    "mrm_subset"
   ]
  },
  {
   "cell_type": "code",
   "execution_count": null,
   "id": "c057d232",
   "metadata": {},
   "outputs": [],
   "source": [
    "# Visualize\n",
    "\n",
    "fig, ax = plt.subplots()\n",
    "ax.imshow(mrm_subset)\n",
    "mrm_subset.plot(robust=True, ax=ax)"
   ]
  },
  {
   "attachments": {},
   "cell_type": "markdown",
   "id": "412b4f59",
   "metadata": {},
   "source": [
    "**Load slave_rsmp - to get original amplitude of SLC's e.g.**"
   ]
  },
  {
   "cell_type": "code",
   "execution_count": null,
   "id": "99878365",
   "metadata": {},
   "outputs": [],
   "source": [
    "path_mother = Path('data_mother_s1')  \n",
    "f_mother = 'slave_rsmp.raw'  # Load complex data of mother to obtain amplitude\n",
    "\n",
    "shape=(1456, 20442)  # obtained from ifgs.res --> nlines = rows ; npixels = columns\n",
    "dtype = np.dtype([('re', np.int16), ('im', np.int16)])\n",
    "\n",
    "mother = [p/f_mother for p in path_mother.rglob(\"????????\")]\n",
    "\n",
    "mother = sarxarray.from_binary(mother, shape, dtype=dtype)\n",
    "mother = mother.chunk({\"azimuth\":200, \"range\":200, \"time\":1 })  # set custom chunk sizes\n",
    "mother = mother.sel(azimuth=range(600,1350),range=range(14400,16400))\n",
    "mother.amplitude"
   ]
  },
  {
   "attachments": {},
   "cell_type": "markdown",
   "id": "9e830339",
   "metadata": {},
   "source": [
    "**Multi-looking**"
   ]
  },
  {
   "cell_type": "code",
   "execution_count": null,
   "id": "36cf3227",
   "metadata": {},
   "outputs": [],
   "source": [
    "def multilooking(data, window_size, variable_name):\n",
    "    \n",
    "    # Generate patches\n",
    "    \n",
    "    patches_real = view_as_windows(np.real(data), window_size, step=window_size)  # step is important as its value can result in overlapping or non overlapping patches\n",
    "    \n",
    "    # Compute the mean of each patch\n",
    "    \n",
    "    real_mean = np.nanmean(patches_real, axis=(2, 3))  # the 3rd and 4th axes represent the window dimensions\n",
    "    \n",
    "    # Consider the imaginary part; in the case input data is a complex number\n",
    "    \n",
    "    if not np.all(np.imag(data) == 0):  # if imaginary\n",
    "        \n",
    "        patches_imag = view_as_windows(np.imag(data), window_size, step=window_size)\n",
    "        \n",
    "        # Compute the mean of each patch\n",
    "        \n",
    "        imag_mean = np.nanmean(patches_imag, axis=(2, 3))\n",
    "        \n",
    "        # Combine the real and imaginary part\n",
    "        \n",
    "        output_array = real_mean + 1j * imag_mean\n",
    "        \n",
    "        # Save as xarray dataset\n",
    "        \n",
    "        comp = xr.DataArray(output_array, dims=None)\n",
    "        ph = xr.DataArray(np.angle(output_array), dims=('azimuth','range'))\n",
    "        amp = xr.DataArray(np.abs(output_array), dims=('azimuth','range'))\n",
    "        \n",
    "        output_array = xr.DataArray(comp, \n",
    "                        coords={'azimuth': np.arange(0, np.shape(output_array)[0], 1, dtype=int),\n",
    "                        'range': np.arange(0, np.shape(output_array)[1], 1, dtype=int)}, \n",
    "                        dims=[\"azimuth\",\"range\"])\n",
    "        output_array= output_array.to_dataset(name='complex')\n",
    "\n",
    "        output_array['amplitude'] = amp\n",
    "        output_array['phase'] = ph\n",
    "        \n",
    "    else:\n",
    "        \n",
    "        output_array = real_mean\n",
    "        \n",
    "        # Save as xarray dataset\n",
    "        \n",
    "        output_array = xr.DataArray(output_array, \n",
    "                        coords={'azimuth': np.arange(0, np.shape(output_array)[0], 1, dtype=int),\n",
    "                        'range': np.arange(0, np.shape(output_array)[1], 1, dtype=int)}, \n",
    "                        dims=[\"azimuth\",\"range\"])\n",
    "        output_array = output_array.to_dataset(name=variable_name)\n",
    "        \n",
    "    return output_array"
   ]
  },
  {
   "cell_type": "code",
   "execution_count": null,
   "id": "2e686f61",
   "metadata": {},
   "outputs": [],
   "source": [
    "# Apply multilooking\n",
    "\n",
    "first_skip = False\n",
    "count = 0\n",
    "coords = []\n",
    "\n",
    "window_size = (3,11)\n",
    "\n",
    "ifg_ml0 = multilooking(ifg_subset.complex.isel(time=0).values, window_size=window_size, variable_name='complex')\n",
    "\n",
    "for i in range(len(ifg_subset.time)):\n",
    "    if(first_skip):\n",
    "        toAdd_ifg = multilooking(ifg_subset.complex.isel(time=i).values, window_size=window_size, variable_name='complex')\n",
    "        ifg_ml0 = xr.concat([ifg_ml0, toAdd_ifg], dim=\"time\")\n",
    "    first_skip = True \n",
    "    \n",
    "    coords.append(count)\n",
    "    count+=1 \n",
    "    \n",
    "ifg_ml = ifg_ml0.assign_coords(time=coords)"
   ]
  },
  {
   "cell_type": "code",
   "execution_count": null,
   "id": "6f20e8de",
   "metadata": {},
   "outputs": [],
   "source": [
    "fig, axs = plt.subplots(3,3, figsize=(25, 25), facecolor='w', edgecolor='k')\n",
    "fig.subplots_adjust(hspace = .25, wspace=.1)\n",
    "\n",
    "axs = axs.ravel()\n",
    "\n",
    "for i in tqdm(range(len(ifg_ml.time))):\n",
    "    axs[i].imshow(ifg_ml.phase.isel(time=i))\n",
    "    ifg_ml.phase.isel(time=i).plot(robust=True, ax=axs[i], cmap='jet')  # cmap='jet'"
   ]
  }
 ],
 "metadata": {
  "kernelspec": {
   "display_name": "Python 3 (ipykernel)",
   "language": "python",
   "name": "python3"
  },
  "language_info": {
   "codemirror_mode": {
    "name": "ipython",
    "version": 3
   },
   "file_extension": ".py",
   "mimetype": "text/x-python",
   "name": "python",
   "nbconvert_exporter": "python",
   "pygments_lexer": "ipython3",
   "version": "3.10.9"
  }
 },
 "nbformat": 4,
 "nbformat_minor": 5
}
